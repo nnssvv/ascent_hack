{
 "cells": [
  {
   "cell_type": "markdown",
   "metadata": {},
   "source": [
    "# Pipeline"
   ]
  },
  {
   "cell_type": "markdown",
   "metadata": {},
   "source": [
    "1) Use Document Intelligence parse layout of relevant PDF\n",
    "\n",
    "2) Use Python to heuristically extract the chunk with information relevant to the metrics of interest\n",
    "\n",
    "3) Define a prompt template for metrics of interest\n",
    "\n",
    "4) Pass prompt + text chunk through LLM \n",
    "\n",
    "5) Retrieve and assess completion"
   ]
  },
  {
   "cell_type": "markdown",
   "metadata": {},
   "source": [
    "# Document intelligence"
   ]
  },
  {
   "cell_type": "code",
   "execution_count": 4,
   "metadata": {},
   "outputs": [],
   "source": [
    "\"\"\"\n",
    "This code sample shows Prebuilt Layout operations with the Azure Form Recognizer client library. \n",
    "The async versions of the samples require Python 3.6 or later.\n",
    "\n",
    "To learn more, please visit the documentation - Quickstart: Form Recognizer Python client library SDKs\n",
    "https://learn.microsoft.com/azure/applied-ai-services/form-recognizer/quickstarts/get-started-v3-sdk-rest-api?view=doc-intel-3.1.0&pivots=programming-language-python\n",
    "\"\"\"\n",
    "from azure.core.credentials import AzureKeyCredential\n",
    "from azure.ai.formrecognizer import DocumentAnalysisClient\n",
    "\n",
    "import os\n",
    "\n",
    "import pandas as pd\n",
    "import numpy as np\n",
    "\n",
    "import json"
   ]
  },
  {
   "cell_type": "code",
   "execution_count": 5,
   "metadata": {},
   "outputs": [],
   "source": [
    "\"\"\"\n",
    "Remember to remove the key from your code when you're done, and never post it publicly. For production, use\n",
    "secure methods to store and access your credentials. For more information, see \n",
    "https://docs.microsoft.com/en-us/azure/cognitive-services/cognitive-services-security?tabs=command-line%2Ccsharp#environment-variables-and-application-configuration\n",
    "\"\"\"\n",
    "endpoint = os.getenv(\"YOUR_FORM_RECOGNIZER_ENDPOINT\")\n",
    "key = os.getenv(\"FORM_RECOGNIZER_KEY\")"
   ]
  },
  {
   "cell_type": "code",
   "execution_count": 6,
   "metadata": {},
   "outputs": [],
   "source": [
    "# sample document\n",
    "# formUrl = \"https://raw.githubusercontent.com/Azure-Samples/cognitive-services-REST-api-samples/master/curl/form-recognizer/sample-layout.pdf\"\n",
    "\n",
    "document_analysis_client = DocumentAnalysisClient(\n",
    "    endpoint=endpoint, credential=AzureKeyCredential(key)\n",
    ")"
   ]
  },
  {
   "cell_type": "code",
   "execution_count": 7,
   "metadata": {},
   "outputs": [],
   "source": [
    "#poller = document_analysis_client.begin_analyze_document_from_url(\"prebuilt-layout\", formUrl)\n",
    "form = open(\"10qs/Q/q_baml_2023q2.pdf\", 'rb')\n",
    "poller = document_analysis_client.begin_analyze_document(\"prebuilt-layout\", form)\n",
    "result = poller.result()\n",
    "\n",
    "# for idx, style in enumerate(result.styles):\n",
    "#     print(\n",
    "#         \"Document contains {} content\".format(\n",
    "#          \"handwritten\" if style.is_handwritten else \"no handwritten\"\n",
    "#         )\n",
    "#     )\n",
    "\n",
    "# for page in result.pages:\n",
    "#     for line_idx, line in enumerate(page.lines):\n",
    "#         print(\n",
    "#          \"...Line # {} has text content '{}'\".format(\n",
    "#         line_idx,\n",
    "#         line.content.encode(\"utf-8\")\n",
    "#         )\n",
    "#     )\n",
    "\n",
    "#     for selection_mark in page.selection_marks:\n",
    "#         print(\n",
    "#          \"...Selection mark is '{}' and has a confidence of {}\".format(\n",
    "#          selection_mark.state,\n",
    "#          selection_mark.confidence\n",
    "#          )\n",
    "#     )\n",
    "\n",
    "# for table_idx, table in enumerate(result.tables):\n",
    "#     print(\n",
    "#         \"Table # {} has {} rows and {} columns\".format(\n",
    "#         table_idx, table.row_count, table.column_count\n",
    "#         )\n",
    "#     )\n",
    "        \n",
    "#     for cell in table.cells:\n",
    "#         print(\n",
    "#             \"...Cell[{}][{}] has content '{}'\".format(\n",
    "#             cell.row_index,\n",
    "#             cell.column_index,\n",
    "#             cell.content.encode(\"utf-8\"),\n",
    "#             )\n",
    "#         )\n",
    "\n",
    "# print(\"----------------------------------------\")\n",
    "\n"
   ]
  },
  {
   "cell_type": "code",
   "execution_count": 8,
   "metadata": {},
   "outputs": [],
   "source": [
    "# change to json fromat \n",
    "result_dict = result.to_dict()\n",
    "\n",
    "# find_word = 'Derivative Notionals'\n",
    "# # find page with Derivatives otional table\n",
    "# for i in range(0, len(result_dict['paragraphs'])):\n",
    "#     para = result_dict['paragraphs'][i]\n",
    "#     if (para['role']=='sectionHeading') & (para['content']==find_word):\n",
    "#         page = para['bounding_regions'][0]['page_number']\n",
    "# page"
   ]
  },
  {
   "cell_type": "markdown",
   "metadata": {},
   "source": [
    "# Extract content"
   ]
  },
  {
   "cell_type": "code",
   "execution_count": 9,
   "metadata": {},
   "outputs": [
    {
     "data": {
      "text/html": [
       "<div>\n",
       "<style scoped>\n",
       "    .dataframe tbody tr th:only-of-type {\n",
       "        vertical-align: middle;\n",
       "    }\n",
       "\n",
       "    .dataframe tbody tr th {\n",
       "        vertical-align: top;\n",
       "    }\n",
       "\n",
       "    .dataframe thead th {\n",
       "        text-align: right;\n",
       "    }\n",
       "</style>\n",
       "<table border=\"1\" class=\"dataframe\">\n",
       "  <thead>\n",
       "    <tr style=\"text-align: right;\">\n",
       "      <th></th>\n",
       "      <th>idx</th>\n",
       "      <th>role</th>\n",
       "      <th>content</th>\n",
       "      <th>page</th>\n",
       "    </tr>\n",
       "  </thead>\n",
       "  <tbody>\n",
       "    <tr>\n",
       "      <th>0</th>\n",
       "      <td>0</td>\n",
       "      <td>title</td>\n",
       "      <td>UNITED STATES SECURITIES AND EXCHANGE COMMISSI...</td>\n",
       "      <td>1</td>\n",
       "    </tr>\n",
       "    <tr>\n",
       "      <th>1</th>\n",
       "      <td>1</td>\n",
       "      <td>None</td>\n",
       "      <td>(Mark One)</td>\n",
       "      <td>1</td>\n",
       "    </tr>\n",
       "    <tr>\n",
       "      <th>2</th>\n",
       "      <td>2</td>\n",
       "      <td>None</td>\n",
       "      <td>:selected:</td>\n",
       "      <td>1</td>\n",
       "    </tr>\n",
       "    <tr>\n",
       "      <th>3</th>\n",
       "      <td>3</td>\n",
       "      <td>None</td>\n",
       "      <td>QUARTERLY REPORT PURSUANT TO SECTION 13 OR 15(...</td>\n",
       "      <td>1</td>\n",
       "    </tr>\n",
       "    <tr>\n",
       "      <th>4</th>\n",
       "      <td>4</td>\n",
       "      <td>None</td>\n",
       "      <td>EXCHANGE ACT OF 1934</td>\n",
       "      <td>1</td>\n",
       "    </tr>\n",
       "    <tr>\n",
       "      <th>...</th>\n",
       "      <td>...</td>\n",
       "      <td>...</td>\n",
       "      <td>...</td>\n",
       "      <td>...</td>\n",
       "    </tr>\n",
       "    <tr>\n",
       "      <th>15767</th>\n",
       "      <td>15767</td>\n",
       "      <td>None</td>\n",
       "      <td>2. I hereby certify, pursuant to 18 U.S.C. Sec...</td>\n",
       "      <td>114</td>\n",
       "    </tr>\n",
       "    <tr>\n",
       "      <th>15768</th>\n",
       "      <td>15768</td>\n",
       "      <td>None</td>\n",
       "      <td>• the Quarterly Report on Form 10-Q of the reg...</td>\n",
       "      <td>114</td>\n",
       "    </tr>\n",
       "    <tr>\n",
       "      <th>15769</th>\n",
       "      <td>15769</td>\n",
       "      <td>None</td>\n",
       "      <td>• the information contained in the periodic re...</td>\n",
       "      <td>114</td>\n",
       "    </tr>\n",
       "    <tr>\n",
       "      <th>15770</th>\n",
       "      <td>15770</td>\n",
       "      <td>None</td>\n",
       "      <td>Date: July 31, 2023</td>\n",
       "      <td>114</td>\n",
       "    </tr>\n",
       "    <tr>\n",
       "      <th>15771</th>\n",
       "      <td>15771</td>\n",
       "      <td>None</td>\n",
       "      <td>/s/ Alastair M. Borthwick Alastair M. Borthwic...</td>\n",
       "      <td>114</td>\n",
       "    </tr>\n",
       "  </tbody>\n",
       "</table>\n",
       "<p>15772 rows × 4 columns</p>\n",
       "</div>"
      ],
      "text/plain": [
       "         idx   role                                            content  page\n",
       "0          0  title  UNITED STATES SECURITIES AND EXCHANGE COMMISSI...     1\n",
       "1          1   None                                         (Mark One)     1\n",
       "2          2   None                                         :selected:     1\n",
       "3          3   None  QUARTERLY REPORT PURSUANT TO SECTION 13 OR 15(...     1\n",
       "4          4   None                               EXCHANGE ACT OF 1934     1\n",
       "...      ...    ...                                                ...   ...\n",
       "15767  15767   None  2. I hereby certify, pursuant to 18 U.S.C. Sec...   114\n",
       "15768  15768   None  • the Quarterly Report on Form 10-Q of the reg...   114\n",
       "15769  15769   None  • the information contained in the periodic re...   114\n",
       "15770  15770   None                                Date: July 31, 2023   114\n",
       "15771  15771   None  /s/ Alastair M. Borthwick Alastair M. Borthwic...   114\n",
       "\n",
       "[15772 rows x 4 columns]"
      ]
     },
     "execution_count": 9,
     "metadata": {},
     "output_type": "execute_result"
    }
   ],
   "source": [
    "# create df with all paragraphs\n",
    "idx_list = []\n",
    "role_list = []\n",
    "content_list = []\n",
    "page_list = []\n",
    "for idx, paragraph in enumerate(result_dict[\"paragraphs\"]):\n",
    "    idx_list.append(idx)\n",
    "    role_list.append(paragraph['role'])\n",
    "    content_list.append(paragraph['content'])\n",
    "    page_list.append(paragraph['bounding_regions'][0]['page_number'])\n",
    "df_paragraph = pd.DataFrame({'idx':idx_list,\n",
    "                             'role':role_list,\n",
    "                             'content':content_list,\n",
    "                             'page':page_list\n",
    "                             })\n",
    "df_paragraph"
   ]
  },
  {
   "cell_type": "code",
   "execution_count": 10,
   "metadata": {},
   "outputs": [],
   "source": [
    "def topic_content(topic):\n",
    "    content_btw_section = []\n",
    "    for i in range(len(df_paragraph)):\n",
    "        # Find the index where role='sectionHeading' and content= topics\n",
    "        start_idx = df_paragraph[(df_paragraph['role'] == 'sectionHeading') & (df_paragraph['content'] == topic)]['idx'].values[0]\n",
    "        # start_page = df_paragraph.loc[start_idx]['page']\n",
    "        \n",
    "        # Find the index of the next 'sectionHeading' if exists\n",
    "        next_section_idx = df_paragraph[df_paragraph['role'] == 'sectionHeading'].loc[df_paragraph['idx'].gt(start_idx)].iloc[0]['idx']\n",
    "        # next_page = df_paragraph.loc[next_section_idx]['page']\n",
    "\n",
    "        # Filter rows with role=None between the indices\n",
    "        filtered_rows = df_paragraph[(df_paragraph['role'].isna()) & (df_paragraph['idx'].gt(start_idx)) & (df_paragraph['idx'].lt(next_section_idx))]['content']\n",
    "        # Print the content of filtered rows\n",
    "    for content in filtered_rows:\n",
    "        content_btw_section.append(content)\n",
    "    return content_btw_section"
   ]
  },
  {
   "cell_type": "code",
   "execution_count": 11,
   "metadata": {},
   "outputs": [
    {
     "data": {
      "text/plain": [
       "['The Board of Governors of the Federal Reserve System (Federal Reserve) requires BHCs to submit a capital plan and planned capital actions on an annual basis, consistent with the rules governing the Comprehensive Capital Analysis and Review (CCAR) capital plan. On July 27, 2023, the Federal Reserve released final 2023 CCAR supervisory stress test results for Bank of America. Based on the results, our stress capital buffer (SCB) will be 2.5 percent, 90 basis points (bps) lower than the current level of 3.4 percent, and our Common equity tier 1 (CET1) minimum requirement will decline to 9.5 percent effective October 1, 2023. Beginning January 1, 2024, we expect our minimum CET1 requirement to increase 50 bps, aligned with planned growth in the global systemically important bank (G-SIB) surcharge.',\n",
       " 'On July 27, 2023, U.S. banking regulators issued proposed rules that would update future U.S. regulatory capital requirements, including the calculation of risk-weighted assets and the G-SIB surcharge. Under the capital proposal, the requirements would be phased in over three years beginning July 1, 2025. The Corporation is evaluating the impact of the proposed rules on its regulatory capital.',\n",
       " \"On July 19, 2023, the Corporation's Board of Directors (the Board) declared a quarterly common stock dividend of $0.24 per share, an increase of nine percent compared to the prior dividend rate, payable on September 29, 2023 to shareholders of record as of September 1, 2023.\",\n",
       " 'For more information on our capital resources, see Capital Management on page 22.']"
      ]
     },
     "execution_count": 11,
     "metadata": {},
     "output_type": "execute_result"
    }
   ],
   "source": [
    "topic = 'Capital Management'\n",
    "asked_topic = topic_content(topic)\n",
    "asked_topic"
   ]
  },
  {
   "cell_type": "markdown",
   "metadata": {},
   "source": [
    "# Put into prompt"
   ]
  },
  {
   "cell_type": "markdown",
   "metadata": {},
   "source": [
    "### GPT4"
   ]
  },
  {
   "cell_type": "code",
   "execution_count": 12,
   "metadata": {},
   "outputs": [],
   "source": [
    "#Note: The openai-python library support for Azure OpenAI is in preview.\n",
    "      #Note: This code sample requires OpenAI Python library version 0.28.1 or lower.\n",
    "import os\n",
    "import openai\n",
    "\n",
    "openai.api_type = \"azure\"\n",
    "openai.api_base = \"https://ascent-hackathon.openai.azure.com/\"\n",
    "openai.api_version = \"2023-07-01-preview\"\n",
    "openai.api_key = os.getenv(\"OPENAI_API_KEY\")"
   ]
  },
  {
   "cell_type": "code",
   "execution_count": 20,
   "metadata": {},
   "outputs": [],
   "source": [
    "message_text = [{\"role\":\"system\",\"content\":\n",
    "           \"\"\"You are a financial analysis AI assistant that helps people find information. \n",
    "           You will receive a text extracted from a firm's quarterly report and retrieve some metricts from it.\n",
    "           You will structure your answer in a JSON format with the following fields:\n",
    "           Current value: the value of the metrics CET1 ratio for the latest period.\n",
    "           Previous value: the value of the metrics CET1 ratio for the previous period.\n",
    "           Direction: the direction of the change either up, down or no change.\n",
    "           Driver: a one sentence summary of the reason for the change, if not found fill with \"None\".\n",
    "           \"\"\"},\n",
    "    {\"role\":\"user\",\n",
    "     \"content\":f'{asked_topic}'}]\n",
    "\n",
    "completion = openai.ChatCompletion.create(\n",
    "  engine=\"10qs_poc\",\n",
    "  messages = message_text,\n",
    "  temperature=0.7,\n",
    "  max_tokens=464,\n",
    "  top_p=0.95,\n",
    "  frequency_penalty=0,\n",
    "  presence_penalty=0,\n",
    "  stop=None\n",
    ")"
   ]
  },
  {
   "cell_type": "code",
   "execution_count": 21,
   "metadata": {},
   "outputs": [
    {
     "data": {
      "text/plain": [
       "{'Current value': '9.5',\n",
       " 'Previous value': '10.4',\n",
       " 'Direction': 'down',\n",
       " 'Driver': \"The reduction is due to the Federal Reserve's final 2023 CCAR supervisory stress test results lowering the stress capital buffer requirement.\"}"
      ]
     },
     "execution_count": 21,
     "metadata": {},
     "output_type": "execute_result"
    }
   ],
   "source": [
    "answer = completion.choices[0].message.content\n",
    "answer = answer.strip(\"```json\\n\")\n",
    "result = json.loads(answer)\n",
    "result"
   ]
  },
  {
   "cell_type": "markdown",
   "metadata": {},
   "source": [
    "### GPT3.5"
   ]
  },
  {
   "cell_type": "code",
   "execution_count": 15,
   "metadata": {},
   "outputs": [],
   "source": [
    "message_text = [{\"role\":\"system\",\"content\":\n",
    "           \"\"\"You are a financial analysis AI assistant that helps people find information. \n",
    "           You will receive a text extracted from a firm's quarterly report and retrieve some metricts from it.\n",
    "           You will structure your answer in a JSON format with the following fields:\n",
    "           Current value: the value of the metrics CET1 ratio for the latest period.\n",
    "           Previous value: the value of the metrics CET1 ratio for the previous period.\n",
    "           Direction: the direction of the change either up, down or no change.\n",
    "           Driver: a one sentence summary of the reason for the change, if not found fill with \"None\".\n",
    "           \"\"\"},\n",
    "    {\"role\":\"user\",\n",
    "     \"content\":f'{asked_topic}'}]\n",
    "\n",
    "completion = openai.ChatCompletion.create(\n",
    "  engine=\"10qs_poc_gpt3\",\n",
    "  messages = message_text,\n",
    "  temperature=0.7,\n",
    "  max_tokens=464,\n",
    "  top_p=0.95,\n",
    "  frequency_penalty=0,\n",
    "  presence_penalty=0,\n",
    "  stop=None\n",
    ")"
   ]
  },
  {
   "cell_type": "code",
   "execution_count": 16,
   "metadata": {},
   "outputs": [
    {
     "data": {
      "text/plain": [
       "{'Current value': '3.4 percent',\n",
       " 'Previous value': 'None',\n",
       " 'Direction': 'Down',\n",
       " 'Driver': 'The stress capital buffer will decrease to 2.5 percent, resulting in a decline in the Common equity tier 1 (CET1) minimum requirement to 9.5 percent.'}"
      ]
     },
     "execution_count": 16,
     "metadata": {},
     "output_type": "execute_result"
    }
   ],
   "source": [
    "answer = completion.choices[0].message.content\n",
    "answer = answer.strip(\"```json\\n\")\n",
    "result = json.loads(answer)\n",
    "result"
   ]
  },
  {
   "cell_type": "code",
   "execution_count": 17,
   "metadata": {},
   "outputs": [
    {
     "data": {
      "text/plain": [
       "['The Board of Governors of the Federal Reserve System (Federal Reserve) requires BHCs to submit a capital plan and planned capital actions on an annual basis, consistent with the rules governing the Comprehensive Capital Analysis and Review (CCAR) capital plan. On July 27, 2023, the Federal Reserve released final 2023 CCAR supervisory stress test results for Bank of America. Based on the results, our stress capital buffer (SCB) will be 2.5 percent, 90 basis points (bps) lower than the current level of 3.4 percent, and our Common equity tier 1 (CET1) minimum requirement will decline to 9.5 percent effective October 1, 2023. Beginning January 1, 2024, we expect our minimum CET1 requirement to increase 50 bps, aligned with planned growth in the global systemically important bank (G-SIB) surcharge.',\n",
       " 'On July 27, 2023, U.S. banking regulators issued proposed rules that would update future U.S. regulatory capital requirements, including the calculation of risk-weighted assets and the G-SIB surcharge. Under the capital proposal, the requirements would be phased in over three years beginning July 1, 2025. The Corporation is evaluating the impact of the proposed rules on its regulatory capital.',\n",
       " \"On July 19, 2023, the Corporation's Board of Directors (the Board) declared a quarterly common stock dividend of $0.24 per share, an increase of nine percent compared to the prior dividend rate, payable on September 29, 2023 to shareholders of record as of September 1, 2023.\",\n",
       " 'For more information on our capital resources, see Capital Management on page 22.']"
      ]
     },
     "execution_count": 17,
     "metadata": {},
     "output_type": "execute_result"
    }
   ],
   "source": [
    "\n",
    "asked_topic"
   ]
  },
  {
   "cell_type": "code",
   "execution_count": null,
   "metadata": {},
   "outputs": [],
   "source": []
  }
 ],
 "metadata": {
  "kernelspec": {
   "display_name": "Python 3",
   "language": "python",
   "name": "python3"
  },
  "language_info": {
   "codemirror_mode": {
    "name": "ipython",
    "version": 3
   },
   "file_extension": ".py",
   "mimetype": "text/x-python",
   "name": "python",
   "nbconvert_exporter": "python",
   "pygments_lexer": "ipython3",
   "version": "3.9.0"
  }
 },
 "nbformat": 4,
 "nbformat_minor": 2
}
